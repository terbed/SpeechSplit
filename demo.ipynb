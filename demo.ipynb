{
 "cells": [
  {
   "cell_type": "code",
   "execution_count": 1,
   "metadata": {},
   "outputs": [],
   "source": [
    "# demo conversion\n",
    "import torch\n",
    "import pickle\n",
    "import numpy as np\n",
    "from hparams import hparams\n",
    "from utils import pad_seq_to_2\n",
    "from utils import quantize_f0_numpy\n",
    "from model import Generator_3 as Generator\n",
    "from model import Generator_6 as F0_Converter\n",
    "\n",
    "\n",
    "device = 'cuda:0'\n",
    "G = Generator(hparams).eval().to(device)\n",
    "g_checkpoint = torch.load('assets/660000-G.ckpt', map_location=lambda storage, loc: storage)\n",
    "G.load_state_dict(g_checkpoint['model'])\n",
    "\n",
    "P = F0_Converter(hparams).eval().to(device)\n",
    "p_checkpoint = torch.load('assets/640000-P.ckpt', map_location=lambda storage, loc: storage)\n",
    "P.load_state_dict(p_checkpoint['model'])\n",
    "\n",
    "\n",
    "metadata = pickle.load(open('assets/demo.pkl', \"rb\"))\n",
    "\n",
    "\n",
    "sbmt_i = metadata[0]\n",
    "emb_org = torch.from_numpy(sbmt_i[1]).to(device)\n",
    "x_org, f0_org, len_org, uid_org = sbmt_i[2]        \n",
    "uttr_org_pad, len_org_pad = pad_seq_to_2(x_org[np.newaxis,:,:], 192)\n",
    "uttr_org_pad = torch.from_numpy(uttr_org_pad).to(device)\n",
    "f0_org_pad = np.pad(f0_org, (0, 192-len_org), 'constant', constant_values=(0, 0))\n",
    "f0_org_quantized = quantize_f0_numpy(f0_org_pad)[0]\n",
    "f0_org_onehot = f0_org_quantized[np.newaxis, :, :]\n",
    "f0_org_onehot = torch.from_numpy(f0_org_onehot).to(device)\n",
    "uttr_f0_org = torch.cat((uttr_org_pad, f0_org_onehot), dim=-1)\n",
    "\n",
    "sbmt_j = metadata[1]\n",
    "emb_trg = torch.from_numpy(sbmt_j[1]).to(device)\n",
    "x_trg, f0_trg, len_trg, uid_trg = sbmt_j[2]        \n",
    "uttr_trg_pad, len_trg_pad = pad_seq_to_2(x_trg[np.newaxis,:,:], 192)\n",
    "uttr_trg_pad = torch.from_numpy(uttr_trg_pad).to(device)\n",
    "f0_trg_pad = np.pad(f0_trg, (0, 192-len_trg), 'constant', constant_values=(0, 0))\n",
    "f0_trg_quantized = quantize_f0_numpy(f0_trg_pad)[0]\n",
    "f0_trg_onehot = f0_trg_quantized[np.newaxis, :, :]\n",
    "f0_trg_onehot = torch.from_numpy(f0_trg_onehot).to(device)\n",
    "\n",
    "with torch.no_grad():\n",
    "    f0_pred = P(uttr_org_pad, f0_trg_onehot)[0]\n",
    "    f0_pred_quantized = f0_pred.argmax(dim=-1).squeeze(0)\n",
    "    f0_con_onehot = torch.zeros((1, 192, 257), device=device)\n",
    "    f0_con_onehot[0, torch.arange(192), f0_pred_quantized] = 1\n",
    "uttr_f0_trg = torch.cat((uttr_org_pad, f0_con_onehot), dim=-1)    \n",
    "\n",
    "\n",
    "conditions = ['R', 'F', 'U', 'RF', 'RU', 'FU', 'RFU']\n",
    "spect_vc = []\n",
    "with torch.no_grad():\n",
    "    for condition in conditions:\n",
    "        if condition == 'R':\n",
    "            x_identic_val = G(uttr_f0_org, uttr_trg_pad, emb_org)\n",
    "        if condition == 'F':\n",
    "            x_identic_val = G(uttr_f0_trg, uttr_org_pad, emb_org)\n",
    "        if condition == 'U':\n",
    "            x_identic_val = G(uttr_f0_org, uttr_org_pad, emb_trg)\n",
    "        if condition == 'RF':\n",
    "            x_identic_val = G(uttr_f0_trg, uttr_trg_pad, emb_org)\n",
    "        if condition == 'RU':\n",
    "            x_identic_val = G(uttr_f0_org, uttr_trg_pad, emb_trg)\n",
    "        if condition == 'FU':\n",
    "            x_identic_val = G(uttr_f0_trg, uttr_org_pad, emb_trg)\n",
    "        if condition == 'RFU':\n",
    "            x_identic_val = G(uttr_f0_trg, uttr_trg_pad, emb_trg)\n",
    "            \n",
    "        if 'R' in condition:\n",
    "            uttr_trg = x_identic_val[0, :len_trg, :].cpu().numpy()\n",
    "        else:\n",
    "            uttr_trg = x_identic_val[0, :len_org, :].cpu().numpy()\n",
    "                \n",
    "        spect_vc.append( ('{}_{}_{}_{}'.format(sbmt_i[0], sbmt_j[0], uid_org, condition), uttr_trg ) )       "
   ]
  },
  {
   "cell_type": "code",
   "execution_count": 4,
   "metadata": {
    "pycharm": {
     "is_executing": true
    }
   },
   "outputs": [
    {
     "name": "stderr",
     "output_type": "stream",
     "text": [
      "  0%|          | 16/26880 [00:00<02:56, 152.63it/s]"
     ]
    },
    {
     "name": "stdout",
     "output_type": "stream",
     "text": [
      "p226_p231_003002_R\n"
     ]
    },
    {
     "name": "stderr",
     "output_type": "stream",
     "text": [
      "100%|██████████| 26880/26880 [02:51<00:00, 157.09it/s]\n",
      "  0%|          | 16/34560 [00:00<03:46, 152.57it/s]"
     ]
    },
    {
     "name": "stdout",
     "output_type": "stream",
     "text": [
      "p226_p231_003002_F\n"
     ]
    },
    {
     "name": "stderr",
     "output_type": "stream",
     "text": [
      "100%|██████████| 34560/34560 [03:42<00:00, 154.99it/s]\n",
      "  0%|          | 15/34560 [00:00<03:58, 144.83it/s]"
     ]
    },
    {
     "name": "stdout",
     "output_type": "stream",
     "text": [
      "p226_p231_003002_U\n"
     ]
    },
    {
     "name": "stderr",
     "output_type": "stream",
     "text": [
      "100%|██████████| 34560/34560 [03:40<00:00, 156.41it/s]\n",
      "  0%|          | 16/26880 [00:00<02:49, 158.69it/s]"
     ]
    },
    {
     "name": "stdout",
     "output_type": "stream",
     "text": [
      "p226_p231_003002_RF\n"
     ]
    },
    {
     "name": "stderr",
     "output_type": "stream",
     "text": [
      "100%|██████████| 26880/26880 [02:43<00:00, 163.91it/s]\n",
      "  0%|          | 17/26880 [00:00<02:43, 164.79it/s]"
     ]
    },
    {
     "name": "stdout",
     "output_type": "stream",
     "text": [
      "p226_p231_003002_RU\n"
     ]
    },
    {
     "name": "stderr",
     "output_type": "stream",
     "text": [
      "100%|██████████| 26880/26880 [02:43<00:00, 163.91it/s]\n",
      "  0%|          | 17/34560 [00:00<03:32, 162.32it/s]"
     ]
    },
    {
     "name": "stdout",
     "output_type": "stream",
     "text": [
      "p226_p231_003002_FU\n"
     ]
    },
    {
     "name": "stderr",
     "output_type": "stream",
     "text": [
      "100%|██████████| 34560/34560 [03:31<00:00, 163.26it/s]\n",
      "  0%|          | 17/26880 [00:00<02:44, 163.36it/s]"
     ]
    },
    {
     "name": "stdout",
     "output_type": "stream",
     "text": [
      "p226_p231_003002_RFU\n"
     ]
    },
    {
     "name": "stderr",
     "output_type": "stream",
     "text": [
      "100%|██████████| 26880/26880 [02:44<00:00, 163.81it/s]\n"
     ]
    }
   ],
   "source": [
    "# spectrogram to waveform\n",
    "import torch\n",
    "import librosa\n",
    "import pickle\n",
    "import os\n",
    "from synthesis import build_model\n",
    "from synthesis import wavegen\n",
    "import soundfile as sf\n",
    "\n",
    "if not os.path.exists('results'):\n",
    "    os.makedirs('results')\n",
    "\n",
    "model = build_model().to(device)\n",
    "checkpoint = torch.load(\"assets/checkpoint_step001000000_ema.pth\")\n",
    "model.load_state_dict(checkpoint[\"state_dict\"])\n",
    "\n",
    "for spect in spect_vc:\n",
    "    name = spect[0]\n",
    "    c = spect[1]\n",
    "    print(name)\n",
    "    waveform = wavegen(model, c=c)   \n",
    "    #librosa.output.write_wav('results/'+name+'.wav', waveform, sr=16000)\n",
    "    sf.write('results/'+name+'.wav', waveform, 16000, 'PCM_24')"
   ]
  },
  {
   "cell_type": "markdown",
   "metadata": {
    "pycharm": {
     "name": "#%%\n"
    }
   },
   "source": [
    "# Check what happens if we zero-out different components\n"
   ]
  },
  {
   "cell_type": "code",
   "execution_count": 5,
   "metadata": {},
   "outputs": [],
   "source": [
    "import torch as tr"
   ]
  },
  {
   "cell_type": "code",
   "execution_count": 8,
   "metadata": {},
   "outputs": [
    {
     "name": "stderr",
     "output_type": "stream",
     "text": [
      "100%|██████████| 26880/26880 [02:52<00:00, 156.27it/s]\n",
      "100%|██████████| 26880/26880 [02:53<00:00, 155.24it/s]\n"
     ]
    }
   ],
   "source": [
    "with torch.no_grad():\n",
    "    emb_zero = tr.zeros_like(emb_org)\n",
    "    x_identic_val = G(uttr_f0_org, uttr_org_pad, emb_zero)\n",
    "    uttr_trg = x_identic_val[0, :len_trg, :].cpu().numpy()\n",
    "\n",
    "    waveform = wavegen(model, c=uttr_trg)   \n",
    "    sf.write('results/'+\"zero_speaker_only\"+'.wav', waveform, 16000, 'PCM_24')\n",
    "    \n",
    "    content_zero = tr.zeros_like(uttr_org_pad)\n",
    "    x_identic_val = G(uttr_f0_org, content_zero, emb_trg)\n",
    "    uttr_trg = x_identic_val[0, :len_trg, :].cpu().numpy()\n",
    "\n",
    "    waveform = wavegen(model, c=uttr_trg)   \n",
    "    sf.write('results/'+\"zero_content\"+'.wav', waveform, 16000, 'PCM_24')"
   ]
  },
  {
   "cell_type": "code",
   "execution_count": 14,
   "metadata": {},
   "outputs": [
    {
     "name": "stderr",
     "output_type": "stream",
     "text": [
      "100%|██████████| 34560/34560 [03:42<00:00, 155.30it/s]\n"
     ]
    }
   ],
   "source": [
    "# removing pitch\n",
    "uttr_f0_org_ = torch.cat((uttr_org_pad, tr.zeros_like(f0_org_onehot)), dim=-1)\n",
    "\n",
    "with torch.no_grad():\n",
    "    x_identic_val = G(uttr_f0_org_, uttr_org_pad, emb_org)\n",
    "    uttr_trg = x_identic_val[0, :len_org, :].cpu().numpy()\n",
    "\n",
    "    waveform = wavegen(model, c=uttr_trg) \n",
    "    sf.write('results/'+\"speaker_org_zero_pitch\"+'.wav', waveform, 16000, 'PCM_24')"
   ]
  },
  {
   "cell_type": "code",
   "execution_count": 11,
   "metadata": {},
   "outputs": [
    {
     "name": "stderr",
     "output_type": "stream",
     "text": [
      "100%|██████████| 34560/34560 [03:42<00:00, 155.19it/s]\n"
     ]
    }
   ],
   "source": [
    "# original speaker synthesis\n",
    "with torch.no_grad():\n",
    "    emb_zero = tr.zeros_like(emb_org)\n",
    "    x_identic_val = G(uttr_f0_org, uttr_org_pad, emb_org)\n",
    "    uttr_trg = x_identic_val[0, :len_org, :].cpu().numpy()\n",
    "\n",
    "    waveform = wavegen(model, c=uttr_trg)   \n",
    "    sf.write('results/'+\"speaker_org\"+'.wav', waveform, 16000, 'PCM_24')"
   ]
  },
  {
   "cell_type": "code",
   "execution_count": 12,
   "metadata": {},
   "outputs": [
    {
     "name": "stderr",
     "output_type": "stream",
     "text": [
      "100%|██████████| 34560/34560 [03:42<00:00, 155.32it/s]\n"
     ]
    }
   ],
   "source": [
    "# removing speaker id\n",
    "with torch.no_grad():\n",
    "    emb_zero = tr.zeros_like(emb_org)\n",
    "    x_identic_val = G(uttr_f0_org, uttr_org_pad, emb_zero)\n",
    "    uttr_trg = x_identic_val[0, :len_org, :].cpu().numpy()\n",
    "\n",
    "    waveform = wavegen(model, c=uttr_trg)\n",
    "    sf.write('results/'+\"speaker_orig_zero_id_\"+'.wav', waveform, 16000, 'PCM_24')"
   ]
  },
  {
   "cell_type": "code",
   "execution_count": null,
   "metadata": {},
   "outputs": [],
   "source": []
  }
 ],
 "metadata": {
  "kernelspec": {
   "display_name": "Python 3",
   "language": "python",
   "name": "python3"
  },
  "language_info": {
   "codemirror_mode": {
    "name": "ipython",
    "version": 3
   },
   "file_extension": ".py",
   "mimetype": "text/x-python",
   "name": "python",
   "nbconvert_exporter": "python",
   "pygments_lexer": "ipython3",
   "version": "3.6.13"
  }
 },
 "nbformat": 4,
 "nbformat_minor": 4
}
