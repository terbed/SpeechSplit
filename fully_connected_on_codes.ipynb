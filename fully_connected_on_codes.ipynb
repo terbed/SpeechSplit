{
 "cells": [
  {
   "cell_type": "markdown",
   "id": "8ff515ff-e260-4384-aa53-1e0c5661f501",
   "metadata": {},
   "source": [
    "# Fully connected network for speech component codes\n"
   ]
  },
  {
   "cell_type": "markdown",
   "id": "a7e3ac9d-2856-4b18-b532-3d03bce931a9",
   "metadata": {},
   "source": [
    "## Database"
   ]
  },
  {
   "cell_type": "code",
   "execution_count": 1,
   "id": "d2c6eab7-661e-4de8-be5c-55c02eb91309",
   "metadata": {},
   "outputs": [],
   "source": [
    "import torch\n",
    "from torch.utils.data import Dataset, DataLoader\n",
    "import pickle\n",
    "tr = torch"
   ]
  },
  {
   "cell_type": "code",
   "execution_count": 6,
   "id": "561d12e6-db05-41ab-ad6f-8ea5a36f5115",
   "metadata": {},
   "outputs": [],
   "source": [
    "class CodesDataset(Dataset):\n",
    "    def __init__(self):\n",
    "        with open(\"dbase.pkl\", \"rb\") as f:\n",
    "            self.db = pickle.load(f)\n",
    "    \n",
    "        self.n = len(self.db)\n",
    "        \n",
    "        \n",
    "    def __len__(self):\n",
    "        return self.n\n",
    "    \n",
    "    \n",
    "    def __getitem__(self, idx):\n",
    "        src = tr.from_numpy(self.db[idx][\"src\"])\n",
    "        trg = tr.from_numpy(self.db[idx][\"trg\"])\n",
    "        \n",
    "        return {\"input\": src, \"target\": trg, \"id\": self.db[idx][\"uttr_id\"] }"
   ]
  },
  {
   "cell_type": "code",
   "execution_count": 7,
   "id": "89d3f6fd-46cf-42fb-8bfa-e1adc0ee57cc",
   "metadata": {},
   "outputs": [
    {
     "data": {
      "text/plain": [
       "{'input': tensor([[[ 0.1466,  0.0354,  0.0592,  ...,  0.0052, -0.2884, -0.4797],\n",
       "          [ 0.2820,  0.0950, -0.1234,  ...,  0.0071, -0.1590, -0.2231],\n",
       "          [ 0.2846,  0.1012, -0.0919,  ...,  0.0302, -0.1551, -0.1574],\n",
       "          ...,\n",
       "          [-0.3304,  0.3403,  0.1219,  ...,  0.0090, -0.9641, -0.9719],\n",
       "          [-0.3302,  0.3470,  0.1309,  ...,  0.0085, -0.9641, -0.9695],\n",
       "          [-0.3235,  0.3069,  0.1620,  ...,  0.0074, -0.9641, -0.9490]]]),\n",
       " 'target': tensor([[[ 2.6619e-01, -1.3325e-02,  1.2860e-01,  ..., -5.3857e-04,\n",
       "           -1.7154e-01, -4.3410e-01],\n",
       "          [ 4.8241e-01,  1.9633e-01, -2.1905e-03,  ..., -1.2183e-02,\n",
       "           -8.6611e-02, -8.7461e-02],\n",
       "          [ 2.0369e-01,  2.5058e-01,  3.1114e-02,  ...,  2.2069e-02,\n",
       "           -2.0906e-01, -1.9413e-01],\n",
       "          ...,\n",
       "          [-3.3287e-01,  3.6905e-01,  1.9288e-01,  ...,  9.5199e-03,\n",
       "           -9.2972e-01, -9.3548e-01],\n",
       "          [-3.2955e-01,  3.7391e-01,  2.0085e-01,  ...,  9.1452e-03,\n",
       "           -9.2972e-01, -9.3419e-01],\n",
       "          [-3.1510e-01,  3.3386e-01,  2.2257e-01,  ...,  7.8987e-03,\n",
       "           -9.2972e-01, -9.1839e-01]]]),\n",
       " 'id': 'B1_UW91'}"
      ]
     },
     "execution_count": 7,
     "metadata": {},
     "output_type": "execute_result"
    }
   ],
   "source": [
    "test = CodesDataset()\n",
    "test[0]"
   ]
  },
  {
   "cell_type": "markdown",
   "id": "19977c77-232b-40eb-a41f-ec458e40f01f",
   "metadata": {},
   "source": [
    "## Network"
   ]
  },
  {
   "cell_type": "code",
   "execution_count": null,
   "id": "83f66119-cf29-4803-8914-0a6e203f3372",
   "metadata": {},
   "outputs": [],
   "source": []
  },
  {
   "cell_type": "code",
   "execution_count": 17,
   "id": "0d892f91-55fd-44d7-bd80-9e1bc634bd03",
   "metadata": {},
   "outputs": [],
   "source": [
    "class CodeConverter(tr.nn.Module):\n",
    "    def __init__(self, layer_dims=None, activation=None, dropout_p=0):\n",
    "        super().__init__()\n",
    "        self.layer_dims = layer_dims\n",
    "        self.activation = activation\n",
    "        if self.layer_dims is None:\n",
    "            self.layer_dims = [24*82, 1024, 512, 512, 1024, 24*82]\n",
    "        \n",
    "        if self.activation is None:\n",
    "            self.activation = tr.nn.LeakyReLU()\n",
    "            \n",
    "        self.layers = tr.nn.ModuleList()\n",
    "        self.layers.append(tr.nn.Flatten())\n",
    "        \n",
    "        n_layers = len(self.layer_dims)\n",
    "        for cnt, (i, o) in enumerate(zip(self.layer_dims, self.layer_dims[1:])):\n",
    "            self.layers.append(tr.nn.Linear(i, o))\n",
    "            \n",
    "            # do not apply activation on last layer\n",
    "            if cnt < n_layers-1:\n",
    "                self.layers.append(self.activation)\n",
    "                \n",
    "            # apply dropout on hidden layers\n",
    "            if cnt > 0 and cnt < n_layers-1:\n",
    "                self.layers.append(tr.nn.Dropout(dropout_p))\n",
    "            \n",
    "            \n",
    "    def forward(self, x):\n",
    "        for layer in self.layers:\n",
    "            x = layer(x)\n",
    "        \n",
    "        # codes are in range -1, 1\n",
    "        x = tr.tanh(x)\n",
    "        \n",
    "        return x.view(x.shape[0], 24, 82)\n"
   ]
  },
  {
   "cell_type": "code",
   "execution_count": 18,
   "id": "092105d6-bae5-4326-b0f0-d3ad9a6f366b",
   "metadata": {},
   "outputs": [
    {
     "name": "stdout",
     "output_type": "stream",
     "text": [
      "torch.Size([1, 24, 82]) tensor([[[-5.7939e-04,  9.6043e-03, -1.3084e-04,  ..., -2.7354e-04,\n",
      "           4.6815e-02, -2.1515e-04],\n",
      "         [-2.3149e-04,  2.8743e-02, -1.6837e-04,  ...,  2.8753e-02,\n",
      "           5.6629e-02, -2.5217e-04],\n",
      "         [-1.5955e-04,  3.5345e-02, -2.2946e-04,  ...,  3.4506e-02,\n",
      "          -2.9878e-05,  5.6669e-03],\n",
      "         ...,\n",
      "         [-2.6281e-04,  2.1909e-02,  2.7877e-03,  ..., -1.0122e-05,\n",
      "          -2.4419e-04, -1.5579e-04],\n",
      "         [ 3.0493e-02,  1.3447e-02,  1.5064e-02,  ..., -7.7468e-05,\n",
      "          -2.6115e-04,  9.8044e-03],\n",
      "         [ 4.0743e-03, -2.6301e-05,  7.5645e-02,  ...,  3.9122e-03,\n",
      "          -2.6865e-04, -3.7632e-04]]], grad_fn=<ViewBackward>)\n"
     ]
    }
   ],
   "source": [
    "code_converter = CodeConverter()\n",
    "y = code_converter(tr.randn(1, 24, 82))\n",
    "print(y.shape, y)"
   ]
  },
  {
   "cell_type": "code",
   "execution_count": 19,
   "id": "d5fce484-9eb6-4d72-9bfc-7bd858780a26",
   "metadata": {},
   "outputs": [
    {
     "name": "stdout",
     "output_type": "stream",
     "text": [
      "5346224\n"
     ]
    }
   ],
   "source": [
    "def count_parameters(model):\n",
    "    return sum(p.numel() for p in model.parameters() if p.requires_grad)\n",
    "\n",
    "print(count_parameters(code_converter))"
   ]
  },
  {
   "cell_type": "code",
   "execution_count": 21,
   "id": "8df6434b-4042-45ef-98a9-27a430cbb0b2",
   "metadata": {},
   "outputs": [
    {
     "name": "stdout",
     "output_type": "stream",
     "text": [
      "5083056\n"
     ]
    }
   ],
   "source": [
    "cc = CodeConverter(layer_dims=[24*82, 1024, 1024, 24*82])\n",
    "print(count_parameters(cc))"
   ]
  },
  {
   "cell_type": "code",
   "execution_count": null,
   "id": "127dd440-36ce-4e99-bb55-2fadf664372a",
   "metadata": {},
   "outputs": [],
   "source": []
  }
 ],
 "metadata": {
  "kernelspec": {
   "display_name": "Python 3",
   "language": "python",
   "name": "python3"
  },
  "language_info": {
   "codemirror_mode": {
    "name": "ipython",
    "version": 3
   },
   "file_extension": ".py",
   "mimetype": "text/x-python",
   "name": "python",
   "nbconvert_exporter": "python",
   "pygments_lexer": "ipython3",
   "version": "3.6.13"
  }
 },
 "nbformat": 4,
 "nbformat_minor": 5
}
